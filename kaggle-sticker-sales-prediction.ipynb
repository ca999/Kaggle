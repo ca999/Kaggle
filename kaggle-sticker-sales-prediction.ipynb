{
 "cells": [
  {
   "cell_type": "code",
   "execution_count": 1,
   "id": "56aad8d2",
   "metadata": {
    "_cell_guid": "b1076dfc-b9ad-4769-8c92-a6c4dae69d19",
    "_uuid": "8f2839f25d086af736a60e9eeb907d3b93b6e0e5",
    "execution": {
     "iopub.execute_input": "2025-01-07T03:00:41.031163Z",
     "iopub.status.busy": "2025-01-07T03:00:41.030750Z",
     "iopub.status.idle": "2025-01-07T03:00:43.263763Z",
     "shell.execute_reply": "2025-01-07T03:00:43.262473Z"
    },
    "papermill": {
     "duration": 2.239654,
     "end_time": "2025-01-07T03:00:43.265680",
     "exception": false,
     "start_time": "2025-01-07T03:00:41.026026",
     "status": "completed"
    },
    "tags": []
   },
   "outputs": [
    {
     "name": "stdout",
     "output_type": "stream",
     "text": [
      "/kaggle/input/playground-series-s5e1/sample_submission.csv\n",
      "/kaggle/input/playground-series-s5e1/train.csv\n",
      "/kaggle/input/playground-series-s5e1/test.csv\n"
     ]
    }
   ],
   "source": [
    "# This Python 3 environment comes with many helpful analytics libraries installed\n",
    "# It is defined by the kaggle/python Docker image: https://github.com/kaggle/docker-python\n",
    "# For example, here's several helpful packages to load\n",
    "\n",
    "import numpy as np # linear algebra\n",
    "import pandas as pd # data processing, CSV file I/O (e.g. pd.read_csv)\n",
    "import matplotlib.pyplot as plt\n",
    "import seaborn as sns\n",
    "\n",
    "\n",
    "# Input data files are available in the read-only \"../input/\" directory\n",
    "# For example, running this (by clicking run or pressing Shift+Enter) will list all files under the input directory\n",
    "\n",
    "import os\n",
    "for dirname, _, filenames in os.walk('/kaggle/input'):\n",
    "    for filename in filenames:\n",
    "        print(os.path.join(dirname, filename))\n",
    "\n",
    "# You can write up to 20GB to the current directory (/kaggle/working/) that gets preserved as output when you create a version using \"Save & Run All\" \n",
    "# You can also write temporary files to /kaggle/temp/, but they won't be saved outside of the current session"
   ]
  },
  {
   "cell_type": "code",
   "execution_count": 2,
   "id": "01bba58e",
   "metadata": {
    "execution": {
     "iopub.execute_input": "2025-01-07T03:00:43.273283Z",
     "iopub.status.busy": "2025-01-07T03:00:43.272766Z",
     "iopub.status.idle": "2025-01-07T03:00:43.649907Z",
     "shell.execute_reply": "2025-01-07T03:00:43.648739Z"
    },
    "papermill": {
     "duration": 0.382996,
     "end_time": "2025-01-07T03:00:43.651897",
     "exception": false,
     "start_time": "2025-01-07T03:00:43.268901",
     "status": "completed"
    },
    "tags": []
   },
   "outputs": [],
   "source": [
    "df = pd.read_csv(\"/kaggle/input/playground-series-s5e1/train.csv\")"
   ]
  },
  {
   "cell_type": "code",
   "execution_count": 3,
   "id": "bd4788f5",
   "metadata": {
    "execution": {
     "iopub.execute_input": "2025-01-07T03:00:43.659068Z",
     "iopub.status.busy": "2025-01-07T03:00:43.658724Z",
     "iopub.status.idle": "2025-01-07T03:00:43.732933Z",
     "shell.execute_reply": "2025-01-07T03:00:43.731513Z"
    },
    "papermill": {
     "duration": 0.079994,
     "end_time": "2025-01-07T03:00:43.734957",
     "exception": false,
     "start_time": "2025-01-07T03:00:43.654963",
     "status": "completed"
    },
    "tags": []
   },
   "outputs": [
    {
     "name": "stdout",
     "output_type": "stream",
     "text": [
      "<class 'pandas.core.frame.DataFrame'>\n",
      "RangeIndex: 230130 entries, 0 to 230129\n",
      "Data columns (total 6 columns):\n",
      " #   Column    Non-Null Count   Dtype  \n",
      "---  ------    --------------   -----  \n",
      " 0   id        230130 non-null  int64  \n",
      " 1   date      230130 non-null  object \n",
      " 2   country   230130 non-null  object \n",
      " 3   store     230130 non-null  object \n",
      " 4   product   230130 non-null  object \n",
      " 5   num_sold  221259 non-null  float64\n",
      "dtypes: float64(1), int64(1), object(4)\n",
      "memory usage: 10.5+ MB\n"
     ]
    }
   ],
   "source": [
    "df.info()"
   ]
  },
  {
   "cell_type": "code",
   "execution_count": 4,
   "id": "675ae852",
   "metadata": {
    "execution": {
     "iopub.execute_input": "2025-01-07T03:00:43.742527Z",
     "iopub.status.busy": "2025-01-07T03:00:43.742027Z",
     "iopub.status.idle": "2025-01-07T03:00:43.762524Z",
     "shell.execute_reply": "2025-01-07T03:00:43.761202Z"
    },
    "papermill": {
     "duration": 0.026257,
     "end_time": "2025-01-07T03:00:43.764287",
     "exception": false,
     "start_time": "2025-01-07T03:00:43.738030",
     "status": "completed"
    },
    "tags": []
   },
   "outputs": [
    {
     "data": {
      "text/plain": [
       "array(['2010-01-01', '2010-01-02', '2010-01-03', ..., '2016-12-29',\n",
       "       '2016-12-30', '2016-12-31'], dtype=object)"
      ]
     },
     "execution_count": 4,
     "metadata": {},
     "output_type": "execute_result"
    }
   ],
   "source": [
    "df['date'].unique()"
   ]
  },
  {
   "cell_type": "code",
   "execution_count": 5,
   "id": "aba26263",
   "metadata": {
    "execution": {
     "iopub.execute_input": "2025-01-07T03:00:43.771539Z",
     "iopub.status.busy": "2025-01-07T03:00:43.771060Z",
     "iopub.status.idle": "2025-01-07T03:00:43.791004Z",
     "shell.execute_reply": "2025-01-07T03:00:43.789864Z"
    },
    "papermill": {
     "duration": 0.025522,
     "end_time": "2025-01-07T03:00:43.792911",
     "exception": false,
     "start_time": "2025-01-07T03:00:43.767389",
     "status": "completed"
    },
    "tags": []
   },
   "outputs": [
    {
     "data": {
      "text/html": [
       "<div>\n",
       "<style scoped>\n",
       "    .dataframe tbody tr th:only-of-type {\n",
       "        vertical-align: middle;\n",
       "    }\n",
       "\n",
       "    .dataframe tbody tr th {\n",
       "        vertical-align: top;\n",
       "    }\n",
       "\n",
       "    .dataframe thead th {\n",
       "        text-align: right;\n",
       "    }\n",
       "</style>\n",
       "<table border=\"1\" class=\"dataframe\">\n",
       "  <thead>\n",
       "    <tr style=\"text-align: right;\">\n",
       "      <th></th>\n",
       "      <th>id</th>\n",
       "      <th>date</th>\n",
       "      <th>country</th>\n",
       "      <th>store</th>\n",
       "      <th>product</th>\n",
       "      <th>num_sold</th>\n",
       "    </tr>\n",
       "  </thead>\n",
       "  <tbody>\n",
       "    <tr>\n",
       "      <th>0</th>\n",
       "      <td>0</td>\n",
       "      <td>2010-01-01</td>\n",
       "      <td>Canada</td>\n",
       "      <td>Discount Stickers</td>\n",
       "      <td>Holographic Goose</td>\n",
       "      <td>NaN</td>\n",
       "    </tr>\n",
       "    <tr>\n",
       "      <th>1</th>\n",
       "      <td>1</td>\n",
       "      <td>2010-01-01</td>\n",
       "      <td>Canada</td>\n",
       "      <td>Discount Stickers</td>\n",
       "      <td>Kaggle</td>\n",
       "      <td>973.0</td>\n",
       "    </tr>\n",
       "    <tr>\n",
       "      <th>2</th>\n",
       "      <td>2</td>\n",
       "      <td>2010-01-01</td>\n",
       "      <td>Canada</td>\n",
       "      <td>Discount Stickers</td>\n",
       "      <td>Kaggle Tiers</td>\n",
       "      <td>906.0</td>\n",
       "    </tr>\n",
       "    <tr>\n",
       "      <th>3</th>\n",
       "      <td>3</td>\n",
       "      <td>2010-01-01</td>\n",
       "      <td>Canada</td>\n",
       "      <td>Discount Stickers</td>\n",
       "      <td>Kerneler</td>\n",
       "      <td>423.0</td>\n",
       "    </tr>\n",
       "    <tr>\n",
       "      <th>4</th>\n",
       "      <td>4</td>\n",
       "      <td>2010-01-01</td>\n",
       "      <td>Canada</td>\n",
       "      <td>Discount Stickers</td>\n",
       "      <td>Kerneler Dark Mode</td>\n",
       "      <td>491.0</td>\n",
       "    </tr>\n",
       "    <tr>\n",
       "      <th>...</th>\n",
       "      <td>...</td>\n",
       "      <td>...</td>\n",
       "      <td>...</td>\n",
       "      <td>...</td>\n",
       "      <td>...</td>\n",
       "      <td>...</td>\n",
       "    </tr>\n",
       "    <tr>\n",
       "      <th>230125</th>\n",
       "      <td>230125</td>\n",
       "      <td>2016-12-31</td>\n",
       "      <td>Singapore</td>\n",
       "      <td>Premium Sticker Mart</td>\n",
       "      <td>Holographic Goose</td>\n",
       "      <td>466.0</td>\n",
       "    </tr>\n",
       "    <tr>\n",
       "      <th>230126</th>\n",
       "      <td>230126</td>\n",
       "      <td>2016-12-31</td>\n",
       "      <td>Singapore</td>\n",
       "      <td>Premium Sticker Mart</td>\n",
       "      <td>Kaggle</td>\n",
       "      <td>2907.0</td>\n",
       "    </tr>\n",
       "    <tr>\n",
       "      <th>230127</th>\n",
       "      <td>230127</td>\n",
       "      <td>2016-12-31</td>\n",
       "      <td>Singapore</td>\n",
       "      <td>Premium Sticker Mart</td>\n",
       "      <td>Kaggle Tiers</td>\n",
       "      <td>2299.0</td>\n",
       "    </tr>\n",
       "    <tr>\n",
       "      <th>230128</th>\n",
       "      <td>230128</td>\n",
       "      <td>2016-12-31</td>\n",
       "      <td>Singapore</td>\n",
       "      <td>Premium Sticker Mart</td>\n",
       "      <td>Kerneler</td>\n",
       "      <td>1242.0</td>\n",
       "    </tr>\n",
       "    <tr>\n",
       "      <th>230129</th>\n",
       "      <td>230129</td>\n",
       "      <td>2016-12-31</td>\n",
       "      <td>Singapore</td>\n",
       "      <td>Premium Sticker Mart</td>\n",
       "      <td>Kerneler Dark Mode</td>\n",
       "      <td>1622.0</td>\n",
       "    </tr>\n",
       "  </tbody>\n",
       "</table>\n",
       "<p>230130 rows × 6 columns</p>\n",
       "</div>"
      ],
      "text/plain": [
       "            id        date    country                 store  \\\n",
       "0            0  2010-01-01     Canada     Discount Stickers   \n",
       "1            1  2010-01-01     Canada     Discount Stickers   \n",
       "2            2  2010-01-01     Canada     Discount Stickers   \n",
       "3            3  2010-01-01     Canada     Discount Stickers   \n",
       "4            4  2010-01-01     Canada     Discount Stickers   \n",
       "...        ...         ...        ...                   ...   \n",
       "230125  230125  2016-12-31  Singapore  Premium Sticker Mart   \n",
       "230126  230126  2016-12-31  Singapore  Premium Sticker Mart   \n",
       "230127  230127  2016-12-31  Singapore  Premium Sticker Mart   \n",
       "230128  230128  2016-12-31  Singapore  Premium Sticker Mart   \n",
       "230129  230129  2016-12-31  Singapore  Premium Sticker Mart   \n",
       "\n",
       "                   product  num_sold  \n",
       "0        Holographic Goose       NaN  \n",
       "1                   Kaggle     973.0  \n",
       "2             Kaggle Tiers     906.0  \n",
       "3                 Kerneler     423.0  \n",
       "4       Kerneler Dark Mode     491.0  \n",
       "...                    ...       ...  \n",
       "230125   Holographic Goose     466.0  \n",
       "230126              Kaggle    2907.0  \n",
       "230127        Kaggle Tiers    2299.0  \n",
       "230128            Kerneler    1242.0  \n",
       "230129  Kerneler Dark Mode    1622.0  \n",
       "\n",
       "[230130 rows x 6 columns]"
      ]
     },
     "execution_count": 5,
     "metadata": {},
     "output_type": "execute_result"
    }
   ],
   "source": [
    "df"
   ]
  },
  {
   "cell_type": "code",
   "execution_count": 6,
   "id": "7fcb5a36",
   "metadata": {
    "execution": {
     "iopub.execute_input": "2025-01-07T03:00:43.801223Z",
     "iopub.status.busy": "2025-01-07T03:00:43.800822Z",
     "iopub.status.idle": "2025-01-07T03:00:44.190917Z",
     "shell.execute_reply": "2025-01-07T03:00:44.189820Z"
    },
    "papermill": {
     "duration": 0.39647,
     "end_time": "2025-01-07T03:00:44.192948",
     "exception": false,
     "start_time": "2025-01-07T03:00:43.796478",
     "status": "completed"
    },
    "tags": []
   },
   "outputs": [],
   "source": [
    "from sklearn.preprocessing import OrdinalEncoder\n",
    "oe = OrdinalEncoder()\n",
    "\n",
    "df['date'] = oe.fit_transform(df[['date']])\n",
    "df['country'] = oe.fit_transform(df[['country']])\n",
    "df['store'] = oe.fit_transform(df[['store']])\n",
    "df['product'] = oe.fit_transform(df[['product']])"
   ]
  },
  {
   "cell_type": "code",
   "execution_count": 7,
   "id": "67fdecd4",
   "metadata": {
    "execution": {
     "iopub.execute_input": "2025-01-07T03:00:44.201071Z",
     "iopub.status.busy": "2025-01-07T03:00:44.200721Z",
     "iopub.status.idle": "2025-01-07T03:00:44.217135Z",
     "shell.execute_reply": "2025-01-07T03:00:44.215984Z"
    },
    "papermill": {
     "duration": 0.022447,
     "end_time": "2025-01-07T03:00:44.218989",
     "exception": false,
     "start_time": "2025-01-07T03:00:44.196542",
     "status": "completed"
    },
    "tags": []
   },
   "outputs": [
    {
     "data": {
      "text/html": [
       "<div>\n",
       "<style scoped>\n",
       "    .dataframe tbody tr th:only-of-type {\n",
       "        vertical-align: middle;\n",
       "    }\n",
       "\n",
       "    .dataframe tbody tr th {\n",
       "        vertical-align: top;\n",
       "    }\n",
       "\n",
       "    .dataframe thead th {\n",
       "        text-align: right;\n",
       "    }\n",
       "</style>\n",
       "<table border=\"1\" class=\"dataframe\">\n",
       "  <thead>\n",
       "    <tr style=\"text-align: right;\">\n",
       "      <th></th>\n",
       "      <th>id</th>\n",
       "      <th>date</th>\n",
       "      <th>country</th>\n",
       "      <th>store</th>\n",
       "      <th>product</th>\n",
       "      <th>num_sold</th>\n",
       "    </tr>\n",
       "  </thead>\n",
       "  <tbody>\n",
       "    <tr>\n",
       "      <th>0</th>\n",
       "      <td>0</td>\n",
       "      <td>0.0</td>\n",
       "      <td>0.0</td>\n",
       "      <td>0.0</td>\n",
       "      <td>0.0</td>\n",
       "      <td>NaN</td>\n",
       "    </tr>\n",
       "    <tr>\n",
       "      <th>1</th>\n",
       "      <td>1</td>\n",
       "      <td>0.0</td>\n",
       "      <td>0.0</td>\n",
       "      <td>0.0</td>\n",
       "      <td>1.0</td>\n",
       "      <td>973.0</td>\n",
       "    </tr>\n",
       "    <tr>\n",
       "      <th>2</th>\n",
       "      <td>2</td>\n",
       "      <td>0.0</td>\n",
       "      <td>0.0</td>\n",
       "      <td>0.0</td>\n",
       "      <td>2.0</td>\n",
       "      <td>906.0</td>\n",
       "    </tr>\n",
       "    <tr>\n",
       "      <th>3</th>\n",
       "      <td>3</td>\n",
       "      <td>0.0</td>\n",
       "      <td>0.0</td>\n",
       "      <td>0.0</td>\n",
       "      <td>3.0</td>\n",
       "      <td>423.0</td>\n",
       "    </tr>\n",
       "    <tr>\n",
       "      <th>4</th>\n",
       "      <td>4</td>\n",
       "      <td>0.0</td>\n",
       "      <td>0.0</td>\n",
       "      <td>0.0</td>\n",
       "      <td>4.0</td>\n",
       "      <td>491.0</td>\n",
       "    </tr>\n",
       "    <tr>\n",
       "      <th>...</th>\n",
       "      <td>...</td>\n",
       "      <td>...</td>\n",
       "      <td>...</td>\n",
       "      <td>...</td>\n",
       "      <td>...</td>\n",
       "      <td>...</td>\n",
       "    </tr>\n",
       "    <tr>\n",
       "      <th>230125</th>\n",
       "      <td>230125</td>\n",
       "      <td>2556.0</td>\n",
       "      <td>5.0</td>\n",
       "      <td>1.0</td>\n",
       "      <td>0.0</td>\n",
       "      <td>466.0</td>\n",
       "    </tr>\n",
       "    <tr>\n",
       "      <th>230126</th>\n",
       "      <td>230126</td>\n",
       "      <td>2556.0</td>\n",
       "      <td>5.0</td>\n",
       "      <td>1.0</td>\n",
       "      <td>1.0</td>\n",
       "      <td>2907.0</td>\n",
       "    </tr>\n",
       "    <tr>\n",
       "      <th>230127</th>\n",
       "      <td>230127</td>\n",
       "      <td>2556.0</td>\n",
       "      <td>5.0</td>\n",
       "      <td>1.0</td>\n",
       "      <td>2.0</td>\n",
       "      <td>2299.0</td>\n",
       "    </tr>\n",
       "    <tr>\n",
       "      <th>230128</th>\n",
       "      <td>230128</td>\n",
       "      <td>2556.0</td>\n",
       "      <td>5.0</td>\n",
       "      <td>1.0</td>\n",
       "      <td>3.0</td>\n",
       "      <td>1242.0</td>\n",
       "    </tr>\n",
       "    <tr>\n",
       "      <th>230129</th>\n",
       "      <td>230129</td>\n",
       "      <td>2556.0</td>\n",
       "      <td>5.0</td>\n",
       "      <td>1.0</td>\n",
       "      <td>4.0</td>\n",
       "      <td>1622.0</td>\n",
       "    </tr>\n",
       "  </tbody>\n",
       "</table>\n",
       "<p>230130 rows × 6 columns</p>\n",
       "</div>"
      ],
      "text/plain": [
       "            id    date  country  store  product  num_sold\n",
       "0            0     0.0      0.0    0.0      0.0       NaN\n",
       "1            1     0.0      0.0    0.0      1.0     973.0\n",
       "2            2     0.0      0.0    0.0      2.0     906.0\n",
       "3            3     0.0      0.0    0.0      3.0     423.0\n",
       "4            4     0.0      0.0    0.0      4.0     491.0\n",
       "...        ...     ...      ...    ...      ...       ...\n",
       "230125  230125  2556.0      5.0    1.0      0.0     466.0\n",
       "230126  230126  2556.0      5.0    1.0      1.0    2907.0\n",
       "230127  230127  2556.0      5.0    1.0      2.0    2299.0\n",
       "230128  230128  2556.0      5.0    1.0      3.0    1242.0\n",
       "230129  230129  2556.0      5.0    1.0      4.0    1622.0\n",
       "\n",
       "[230130 rows x 6 columns]"
      ]
     },
     "execution_count": 7,
     "metadata": {},
     "output_type": "execute_result"
    }
   ],
   "source": [
    "df"
   ]
  },
  {
   "cell_type": "code",
   "execution_count": 8,
   "id": "a5178568",
   "metadata": {
    "execution": {
     "iopub.execute_input": "2025-01-07T03:00:44.228206Z",
     "iopub.status.busy": "2025-01-07T03:00:44.227800Z",
     "iopub.status.idle": "2025-01-07T03:00:45.848195Z",
     "shell.execute_reply": "2025-01-07T03:00:45.847051Z"
    },
    "papermill": {
     "duration": 1.626647,
     "end_time": "2025-01-07T03:00:45.849871",
     "exception": false,
     "start_time": "2025-01-07T03:00:44.223224",
     "status": "completed"
    },
    "tags": []
   },
   "outputs": [
    {
     "data": {
      "image/png": "[encoded data removed]",
      "text/plain": [
       "<Figure size 1200x600 with 1 Axes>"
      ]
     },
     "metadata": {},
     "output_type": "display_data"
    }
   ],
   "source": [
    "df['date'] = pd.to_datetime(df['date'])\n",
    "\n",
    "# Sort the DataFrame by date (optional, but recommended for time-series visualization)\n",
    "df = df.sort_values('date')\n",
    "\n",
    "# Plotting\n",
    "plt.figure(figsize=(12, 6))\n",
    "plt.plot(df['date'], df['num_sold'], marker='o', linestyle='-', color='b', label='Units Sold')\n",
    "plt.xlabel('Date')\n",
    "plt.ylabel('Number of Items Sold')\n",
    "plt.title('Number of Items Sold Over Time')\n",
    "plt.grid(True)\n",
    "plt.legend()\n",
    "plt.tight_layout()\n",
    "plt.show()"
   ]
  },
  {
   "cell_type": "code",
   "execution_count": null,
   "id": "073b5df9",
   "metadata": {
    "papermill": {
     "duration": 0.004894,
     "end_time": "2025-01-07T03:00:45.859642",
     "exception": false,
     "start_time": "2025-01-07T03:00:45.854748",
     "status": "completed"
    },
    "tags": []
   },
   "outputs": [],
   "source": []
  }
 ],
 "metadata": {
  "kaggle": {
   "accelerator": "none",
   "dataSources": [
    {
     "databundleVersionId": 10652996,
     "sourceId": 85723,
     "sourceType": "competition"
    }
   ],
   "dockerImageVersionId": 30822,
   "isGpuEnabled": false,
   "isInternetEnabled": true,
   "language": "python",
   "sourceType": "notebook"
  },
  "kernelspec": {
   "display_name": "Python 3",
   "language": "python",
   "name": "python3"
  },
  "language_info": {
   "codemirror_mode": {
    "name": "ipython",
    "version": 3
   },
   "file_extension": ".py",
   "mimetype": "text/x-python",
   "name": "python",
   "nbconvert_exporter": "python",
   "pygments_lexer": "ipython3",
   "version": "3.10.12"
  },
  "papermill": {
   "default_parameters": {},
   "duration": 7.934601,
   "end_time": "2025-01-07T03:00:46.586527",
   "environment_variables": {},
   "exception": null,
   "input_path": "__notebook__.ipynb",
   "output_path": "__notebook__.ipynb",
   "parameters": {},
   "start_time": "2025-01-07T03:00:38.651926",
   "version": "2.6.0"
  }
 },
 "nbformat": 4,
 "nbformat_minor": 5
}
