{
 "cells": [
  {
   "cell_type": "code",
   "execution_count": 1,
   "id": "c929fc3e",
   "metadata": {
    "_cell_guid": "b1076dfc-b9ad-4769-8c92-a6c4dae69d19",
    "_uuid": "8f2839f25d086af736a60e9eeb907d3b93b6e0e5",
    "execution": {
     "iopub.execute_input": "2025-01-02T16:15:30.688487Z",
     "iopub.status.busy": "2025-01-02T16:15:30.688088Z",
     "iopub.status.idle": "2025-01-02T16:15:31.131984Z",
     "shell.execute_reply": "2025-01-02T16:15:31.130414Z"
    },
    "papermill": {
     "duration": 0.451269,
     "end_time": "2025-01-02T16:15:31.134079",
     "exception": false,
     "start_time": "2025-01-02T16:15:30.682810",
     "status": "completed"
    },
    "tags": []
   },
   "outputs": [
    {
     "name": "stdout",
     "output_type": "stream",
     "text": [
      "/kaggle/input/playground-series-s5e1/sample_submission.csv\n",
      "/kaggle/input/playground-series-s5e1/train.csv\n",
      "/kaggle/input/playground-series-s5e1/test.csv\n"
     ]
    }
   ],
   "source": [
    "# This Python 3 environment comes with many helpful analytics libraries installed\n",
    "# It is defined by the kaggle/python Docker image: https://github.com/kaggle/docker-python\n",
    "# For example, here's several helpful packages to load\n",
    "\n",
    "import numpy as np # linear algebra\n",
    "import pandas as pd # data processing, CSV file I/O (e.g. pd.read_csv)\n",
    "\n",
    "# Input data files are available in the read-only \"../input/\" directory\n",
    "# For example, running this (by clicking run or pressing Shift+Enter) will list all files under the input directory\n",
    "\n",
    "import os\n",
    "for dirname, _, filenames in os.walk('/kaggle/input'):\n",
    "    for filename in filenames:\n",
    "        print(os.path.join(dirname, filename))\n",
    "\n",
    "# You can write up to 20GB to the current directory (/kaggle/working/) that gets preserved as output when you create a version using \"Save & Run All\" \n",
    "# You can also write temporary files to /kaggle/temp/, but they won't be saved outside of the current session"
   ]
  },
  {
   "cell_type": "code",
   "execution_count": 2,
   "id": "84fb282b",
   "metadata": {
    "execution": {
     "iopub.execute_input": "2025-01-02T16:15:31.140311Z",
     "iopub.status.busy": "2025-01-02T16:15:31.139753Z",
     "iopub.status.idle": "2025-01-02T16:15:31.508344Z",
     "shell.execute_reply": "2025-01-02T16:15:31.507065Z"
    },
    "papermill": {
     "duration": 0.373664,
     "end_time": "2025-01-02T16:15:31.510421",
     "exception": false,
     "start_time": "2025-01-02T16:15:31.136757",
     "status": "completed"
    },
    "tags": []
   },
   "outputs": [],
   "source": [
    "training_df = pd.read_csv(\"/kaggle/input/playground-series-s5e1/train.csv\")"
   ]
  },
  {
   "cell_type": "code",
   "execution_count": 3,
   "id": "f583922e",
   "metadata": {
    "execution": {
     "iopub.execute_input": "2025-01-02T16:15:31.517961Z",
     "iopub.status.busy": "2025-01-02T16:15:31.517594Z",
     "iopub.status.idle": "2025-01-02T16:15:31.591576Z",
     "shell.execute_reply": "2025-01-02T16:15:31.590402Z"
    },
    "papermill": {
     "duration": 0.078901,
     "end_time": "2025-01-02T16:15:31.593415",
     "exception": false,
     "start_time": "2025-01-02T16:15:31.514514",
     "status": "completed"
    },
    "tags": []
   },
   "outputs": [
    {
     "name": "stdout",
     "output_type": "stream",
     "text": [
      "<class 'pandas.core.frame.DataFrame'>\n",
      "RangeIndex: 230130 entries, 0 to 230129\n",
      "Data columns (total 6 columns):\n",
      " #   Column    Non-Null Count   Dtype  \n",
      "---  ------    --------------   -----  \n",
      " 0   id        230130 non-null  int64  \n",
      " 1   date      230130 non-null  object \n",
      " 2   country   230130 non-null  object \n",
      " 3   store     230130 non-null  object \n",
      " 4   product   230130 non-null  object \n",
      " 5   num_sold  221259 non-null  float64\n",
      "dtypes: float64(1), int64(1), object(4)\n",
      "memory usage: 10.5+ MB\n"
     ]
    }
   ],
   "source": [
    "training_df.info()"
   ]
  },
  {
   "cell_type": "code",
   "execution_count": null,
   "id": "5a731c65",
   "metadata": {
    "papermill": {
     "duration": 0.001758,
     "end_time": "2025-01-02T16:15:31.597369",
     "exception": false,
     "start_time": "2025-01-02T16:15:31.595611",
     "status": "completed"
    },
    "tags": []
   },
   "outputs": [],
   "source": []
  }
 ],
 "metadata": {
  "kaggle": {
   "accelerator": "none",
   "dataSources": [
    {
     "databundleVersionId": 10652996,
     "sourceId": 85723,
     "sourceType": "competition"
    }
   ],
   "dockerImageVersionId": 30822,
   "isGpuEnabled": false,
   "isInternetEnabled": true,
   "language": "python",
   "sourceType": "notebook"
  },
  "kernelspec": {
   "display_name": "Python 3",
   "language": "python",
   "name": "python3"
  },
  "language_info": {
   "codemirror_mode": {
    "name": "ipython",
    "version": 3
   },
   "file_extension": ".py",
   "mimetype": "text/x-python",
   "name": "python",
   "nbconvert_exporter": "python",
   "pygments_lexer": "ipython3",
   "version": "3.10.12"
  },
  "papermill": {
   "default_parameters": {},
   "duration": 3.830908,
   "end_time": "2025-01-02T16:15:32.120138",
   "environment_variables": {},
   "exception": null,
   "input_path": "__notebook__.ipynb",
   "output_path": "__notebook__.ipynb",
   "parameters": {},
   "start_time": "2025-01-02T16:15:28.289230",
   "version": "2.6.0"
  }
 },
 "nbformat": 4,
 "nbformat_minor": 5
}
