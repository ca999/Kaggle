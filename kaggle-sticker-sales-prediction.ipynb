{
 "cells": [
  {
   "cell_type": "code",
   "execution_count": 1,
   "id": "502b32fa",
   "metadata": {
    "_cell_guid": "b1076dfc-b9ad-4769-8c92-a6c4dae69d19",
    "_uuid": "8f2839f25d086af736a60e9eeb907d3b93b6e0e5",
    "execution": {
     "iopub.execute_input": "2025-01-28T17:04:27.729062Z",
     "iopub.status.busy": "2025-01-28T17:04:27.728672Z",
     "iopub.status.idle": "2025-01-28T17:04:30.245933Z",
     "shell.execute_reply": "2025-01-28T17:04:30.244555Z"
    },
    "papermill": {
     "duration": 2.525132,
     "end_time": "2025-01-28T17:04:30.247850",
     "exception": false,
     "start_time": "2025-01-28T17:04:27.722718",
     "status": "completed"
    },
    "tags": []
   },
   "outputs": [
    {
     "name": "stdout",
     "output_type": "stream",
     "text": [
      "/kaggle/input/playground-series-s5e1/sample_submission.csv\n",
      "/kaggle/input/playground-series-s5e1/train.csv\n",
      "/kaggle/input/playground-series-s5e1/test.csv\n"
     ]
    }
   ],
   "source": [
    "# This Python 3 environment comes with many helpful analytics libraries installed\n",
    "# It is defined by the kaggle/python Docker image: https://github.com/kaggle/docker-python\n",
    "# For example, here's several helpful packages to load\n",
    "\n",
    "import numpy as np # linear algebra\n",
    "import pandas as pd # data processing, CSV file I/O (e.g. pd.read_csv)\n",
    "import matplotlib.pyplot as plt\n",
    "import seaborn as sns\n",
    "\n",
    "\n",
    "# Input data files are available in the read-only \"../input/\" directory\n",
    "# For example, running this (by clicking run or pressing Shift+Enter) will list all files under the input directory\n",
    "\n",
    "import os\n",
    "for dirname, _, filenames in os.walk('/kaggle/input'):\n",
    "    for filename in filenames:\n",
    "        print(os.path.join(dirname, filename))\n",
    "\n",
    "# You can write up to 20GB to the current directory (/kaggle/working/) that gets preserved as output when you create a version using \"Save & Run All\" \n",
    "# You can also write temporary files to /kaggle/temp/, but they won't be saved outside of the current session"
   ]
  },
  {
   "cell_type": "code",
   "execution_count": 2,
   "id": "75f1f4b0",
   "metadata": {
    "execution": {
     "iopub.execute_input": "2025-01-28T17:04:30.258453Z",
     "iopub.status.busy": "2025-01-28T17:04:30.257957Z",
     "iopub.status.idle": "2025-01-28T17:04:30.624351Z",
     "shell.execute_reply": "2025-01-28T17:04:30.623135Z"
    },
    "papermill": {
     "duration": 0.373737,
     "end_time": "2025-01-28T17:04:30.626337",
     "exception": false,
     "start_time": "2025-01-28T17:04:30.252600",
     "status": "completed"
    },
    "tags": []
   },
   "outputs": [],
   "source": [
    "df = pd.read_csv(\"/kaggle/input/playground-series-s5e1/train.csv\")"
   ]
  },
  {
   "cell_type": "code",
   "execution_count": 3,
   "id": "766744a2",
   "metadata": {
    "execution": {
     "iopub.execute_input": "2025-01-28T17:04:30.635991Z",
     "iopub.status.busy": "2025-01-28T17:04:30.635645Z",
     "iopub.status.idle": "2025-01-28T17:04:30.661396Z",
     "shell.execute_reply": "2025-01-28T17:04:30.660330Z"
    },
    "papermill": {
     "duration": 0.0328,
     "end_time": "2025-01-28T17:04:30.663441",
     "exception": false,
     "start_time": "2025-01-28T17:04:30.630641",
     "status": "completed"
    },
    "tags": []
   },
   "outputs": [
    {
     "data": {
      "text/plain": [
       "array(['2010-01-01', '2010-01-02', '2010-01-03', ..., '2016-12-29',\n",
       "       '2016-12-30', '2016-12-31'], dtype=object)"
      ]
     },
     "execution_count": 3,
     "metadata": {},
     "output_type": "execute_result"
    }
   ],
   "source": [
    "df['date'].unique()"
   ]
  },
  {
   "cell_type": "code",
   "execution_count": 4,
   "id": "f64417fd",
   "metadata": {
    "execution": {
     "iopub.execute_input": "2025-01-28T17:04:30.674736Z",
     "iopub.status.busy": "2025-01-28T17:04:30.674386Z",
     "iopub.status.idle": "2025-01-28T17:04:30.739467Z",
     "shell.execute_reply": "2025-01-28T17:04:30.738249Z"
    },
    "papermill": {
     "duration": 0.073327,
     "end_time": "2025-01-28T17:04:30.741499",
     "exception": false,
     "start_time": "2025-01-28T17:04:30.668172",
     "status": "completed"
    },
    "tags": []
   },
   "outputs": [
    {
     "name": "stdout",
     "output_type": "stream",
     "text": [
      "<class 'pandas.core.frame.DataFrame'>\n",
      "RangeIndex: 230130 entries, 0 to 230129\n",
      "Data columns (total 6 columns):\n",
      " #   Column    Non-Null Count   Dtype  \n",
      "---  ------    --------------   -----  \n",
      " 0   id        230130 non-null  int64  \n",
      " 1   date      230130 non-null  object \n",
      " 2   country   230130 non-null  object \n",
      " 3   store     230130 non-null  object \n",
      " 4   product   230130 non-null  object \n",
      " 5   num_sold  221259 non-null  float64\n",
      "dtypes: float64(1), int64(1), object(4)\n",
      "memory usage: 10.5+ MB\n"
     ]
    }
   ],
   "source": [
    "df.info()"
   ]
  },
  {
   "cell_type": "code",
   "execution_count": 5,
   "id": "a66a227f",
   "metadata": {
    "execution": {
     "iopub.execute_input": "2025-01-28T17:04:30.751244Z",
     "iopub.status.busy": "2025-01-28T17:04:30.750803Z",
     "iopub.status.idle": "2025-01-28T17:04:30.771044Z",
     "shell.execute_reply": "2025-01-28T17:04:30.769831Z"
    },
    "papermill": {
     "duration": 0.02738,
     "end_time": "2025-01-28T17:04:30.773154",
     "exception": false,
     "start_time": "2025-01-28T17:04:30.745774",
     "status": "completed"
    },
    "tags": []
   },
   "outputs": [
    {
     "data": {
      "text/html": [
       "<div>\n",
       "<style scoped>\n",
       "    .dataframe tbody tr th:only-of-type {\n",
       "        vertical-align: middle;\n",
       "    }\n",
       "\n",
       "    .dataframe tbody tr th {\n",
       "        vertical-align: top;\n",
       "    }\n",
       "\n",
       "    .dataframe thead th {\n",
       "        text-align: right;\n",
       "    }\n",
       "</style>\n",
       "<table border=\"1\" class=\"dataframe\">\n",
       "  <thead>\n",
       "    <tr style=\"text-align: right;\">\n",
       "      <th></th>\n",
       "      <th>id</th>\n",
       "      <th>date</th>\n",
       "      <th>country</th>\n",
       "      <th>store</th>\n",
       "      <th>product</th>\n",
       "      <th>num_sold</th>\n",
       "    </tr>\n",
       "  </thead>\n",
       "  <tbody>\n",
       "    <tr>\n",
       "      <th>0</th>\n",
       "      <td>0</td>\n",
       "      <td>2010-01-01</td>\n",
       "      <td>Canada</td>\n",
       "      <td>Discount Stickers</td>\n",
       "      <td>Holographic Goose</td>\n",
       "      <td>NaN</td>\n",
       "    </tr>\n",
       "    <tr>\n",
       "      <th>1</th>\n",
       "      <td>1</td>\n",
       "      <td>2010-01-01</td>\n",
       "      <td>Canada</td>\n",
       "      <td>Discount Stickers</td>\n",
       "      <td>Kaggle</td>\n",
       "      <td>973.0</td>\n",
       "    </tr>\n",
       "    <tr>\n",
       "      <th>2</th>\n",
       "      <td>2</td>\n",
       "      <td>2010-01-01</td>\n",
       "      <td>Canada</td>\n",
       "      <td>Discount Stickers</td>\n",
       "      <td>Kaggle Tiers</td>\n",
       "      <td>906.0</td>\n",
       "    </tr>\n",
       "    <tr>\n",
       "      <th>3</th>\n",
       "      <td>3</td>\n",
       "      <td>2010-01-01</td>\n",
       "      <td>Canada</td>\n",
       "      <td>Discount Stickers</td>\n",
       "      <td>Kerneler</td>\n",
       "      <td>423.0</td>\n",
       "    </tr>\n",
       "    <tr>\n",
       "      <th>4</th>\n",
       "      <td>4</td>\n",
       "      <td>2010-01-01</td>\n",
       "      <td>Canada</td>\n",
       "      <td>Discount Stickers</td>\n",
       "      <td>Kerneler Dark Mode</td>\n",
       "      <td>491.0</td>\n",
       "    </tr>\n",
       "    <tr>\n",
       "      <th>...</th>\n",
       "      <td>...</td>\n",
       "      <td>...</td>\n",
       "      <td>...</td>\n",
       "      <td>...</td>\n",
       "      <td>...</td>\n",
       "      <td>...</td>\n",
       "    </tr>\n",
       "    <tr>\n",
       "      <th>230125</th>\n",
       "      <td>230125</td>\n",
       "      <td>2016-12-31</td>\n",
       "      <td>Singapore</td>\n",
       "      <td>Premium Sticker Mart</td>\n",
       "      <td>Holographic Goose</td>\n",
       "      <td>466.0</td>\n",
       "    </tr>\n",
       "    <tr>\n",
       "      <th>230126</th>\n",
       "      <td>230126</td>\n",
       "      <td>2016-12-31</td>\n",
       "      <td>Singapore</td>\n",
       "      <td>Premium Sticker Mart</td>\n",
       "      <td>Kaggle</td>\n",
       "      <td>2907.0</td>\n",
       "    </tr>\n",
       "    <tr>\n",
       "      <th>230127</th>\n",
       "      <td>230127</td>\n",
       "      <td>2016-12-31</td>\n",
       "      <td>Singapore</td>\n",
       "      <td>Premium Sticker Mart</td>\n",
       "      <td>Kaggle Tiers</td>\n",
       "      <td>2299.0</td>\n",
       "    </tr>\n",
       "    <tr>\n",
       "      <th>230128</th>\n",
       "      <td>230128</td>\n",
       "      <td>2016-12-31</td>\n",
       "      <td>Singapore</td>\n",
       "      <td>Premium Sticker Mart</td>\n",
       "      <td>Kerneler</td>\n",
       "      <td>1242.0</td>\n",
       "    </tr>\n",
       "    <tr>\n",
       "      <th>230129</th>\n",
       "      <td>230129</td>\n",
       "      <td>2016-12-31</td>\n",
       "      <td>Singapore</td>\n",
       "      <td>Premium Sticker Mart</td>\n",
       "      <td>Kerneler Dark Mode</td>\n",
       "      <td>1622.0</td>\n",
       "    </tr>\n",
       "  </tbody>\n",
       "</table>\n",
       "<p>230130 rows × 6 columns</p>\n",
       "</div>"
      ],
      "text/plain": [
       "            id        date    country                 store  \\\n",
       "0            0  2010-01-01     Canada     Discount Stickers   \n",
       "1            1  2010-01-01     Canada     Discount Stickers   \n",
       "2            2  2010-01-01     Canada     Discount Stickers   \n",
       "3            3  2010-01-01     Canada     Discount Stickers   \n",
       "4            4  2010-01-01     Canada     Discount Stickers   \n",
       "...        ...         ...        ...                   ...   \n",
       "230125  230125  2016-12-31  Singapore  Premium Sticker Mart   \n",
       "230126  230126  2016-12-31  Singapore  Premium Sticker Mart   \n",
       "230127  230127  2016-12-31  Singapore  Premium Sticker Mart   \n",
       "230128  230128  2016-12-31  Singapore  Premium Sticker Mart   \n",
       "230129  230129  2016-12-31  Singapore  Premium Sticker Mart   \n",
       "\n",
       "                   product  num_sold  \n",
       "0        Holographic Goose       NaN  \n",
       "1                   Kaggle     973.0  \n",
       "2             Kaggle Tiers     906.0  \n",
       "3                 Kerneler     423.0  \n",
       "4       Kerneler Dark Mode     491.0  \n",
       "...                    ...       ...  \n",
       "230125   Holographic Goose     466.0  \n",
       "230126              Kaggle    2907.0  \n",
       "230127        Kaggle Tiers    2299.0  \n",
       "230128            Kerneler    1242.0  \n",
       "230129  Kerneler Dark Mode    1622.0  \n",
       "\n",
       "[230130 rows x 6 columns]"
      ]
     },
     "execution_count": 5,
     "metadata": {},
     "output_type": "execute_result"
    }
   ],
   "source": [
    "df"
   ]
  },
  {
   "cell_type": "code",
   "execution_count": 6,
   "id": "a9933ea3",
   "metadata": {
    "execution": {
     "iopub.execute_input": "2025-01-28T17:04:30.783939Z",
     "iopub.status.busy": "2025-01-28T17:04:30.783567Z",
     "iopub.status.idle": "2025-01-28T17:04:30.790013Z",
     "shell.execute_reply": "2025-01-28T17:04:30.788895Z"
    },
    "papermill": {
     "duration": 0.013988,
     "end_time": "2025-01-28T17:04:30.791901",
     "exception": false,
     "start_time": "2025-01-28T17:04:30.777913",
     "status": "completed"
    },
    "tags": []
   },
   "outputs": [
    {
     "data": {
      "text/plain": [
       "Index(['id', 'date', 'country', 'store', 'product', 'num_sold'], dtype='object')"
      ]
     },
     "execution_count": 6,
     "metadata": {},
     "output_type": "execute_result"
    }
   ],
   "source": [
    "df.columns"
   ]
  },
  {
   "cell_type": "code",
   "execution_count": 7,
   "id": "ada3ac4a",
   "metadata": {
    "execution": {
     "iopub.execute_input": "2025-01-28T17:04:30.803057Z",
     "iopub.status.busy": "2025-01-28T17:04:30.802670Z",
     "iopub.status.idle": "2025-01-28T17:04:30.810526Z",
     "shell.execute_reply": "2025-01-28T17:04:30.809250Z"
    },
    "papermill": {
     "duration": 0.01571,
     "end_time": "2025-01-28T17:04:30.812663",
     "exception": false,
     "start_time": "2025-01-28T17:04:30.796953",
     "status": "completed"
    },
    "tags": []
   },
   "outputs": [],
   "source": [
    "df['num_sold'] = df['num_sold'].fillna(df['num_sold'].mean())\n"
   ]
  },
  {
   "cell_type": "code",
   "execution_count": 8,
   "id": "bce77be9",
   "metadata": {
    "execution": {
     "iopub.execute_input": "2025-01-28T17:04:30.824323Z",
     "iopub.status.busy": "2025-01-28T17:04:30.823815Z",
     "iopub.status.idle": "2025-01-28T17:04:31.126434Z",
     "shell.execute_reply": "2025-01-28T17:04:31.125061Z"
    },
    "papermill": {
     "duration": 0.310977,
     "end_time": "2025-01-28T17:04:31.128579",
     "exception": false,
     "start_time": "2025-01-28T17:04:30.817602",
     "status": "completed"
    },
    "tags": []
   },
   "outputs": [],
   "source": [
    "from sklearn.preprocessing import LabelEncoder, StandardScaler\n",
    "label_encoders = {}\n",
    "for col in ['country', 'store', 'product']:\n",
    "    le = LabelEncoder()\n",
    "    df[col] = le.fit_transform(df[col])\n",
    "    label_encoders[col] = le"
   ]
  },
  {
   "cell_type": "code",
   "execution_count": 9,
   "id": "cc8197f8",
   "metadata": {
    "execution": {
     "iopub.execute_input": "2025-01-28T17:04:31.139387Z",
     "iopub.status.busy": "2025-01-28T17:04:31.138999Z",
     "iopub.status.idle": "2025-01-28T17:04:31.216060Z",
     "shell.execute_reply": "2025-01-28T17:04:31.214798Z"
    },
    "papermill": {
     "duration": 0.084827,
     "end_time": "2025-01-28T17:04:31.218250",
     "exception": false,
     "start_time": "2025-01-28T17:04:31.133423",
     "status": "completed"
    },
    "tags": []
   },
   "outputs": [],
   "source": [
    "df['date'] = pd.to_datetime(df['date'])\n",
    "df['year'] = df['date'].dt.year\n",
    "df['month'] = df['date'].dt.month\n",
    "df['day'] = df['date'].dt.day\n",
    "df = df.drop(['id', 'date'], axis=1)"
   ]
  },
  {
   "cell_type": "code",
   "execution_count": 10,
   "id": "03c0c6be",
   "metadata": {
    "execution": {
     "iopub.execute_input": "2025-01-28T17:04:31.229272Z",
     "iopub.status.busy": "2025-01-28T17:04:31.228849Z",
     "iopub.status.idle": "2025-01-28T17:04:31.289817Z",
     "shell.execute_reply": "2025-01-28T17:04:31.288352Z"
    },
    "papermill": {
     "duration": 0.069083,
     "end_time": "2025-01-28T17:04:31.292277",
     "exception": false,
     "start_time": "2025-01-28T17:04:31.223194",
     "status": "completed"
    },
    "tags": []
   },
   "outputs": [],
   "source": [
    "scaler = StandardScaler()\n",
    "X = scaler.fit_transform(df.drop('num_sold', axis=1))\n",
    "y = df['num_sold'].values"
   ]
  },
  {
   "cell_type": "code",
   "execution_count": 11,
   "id": "a7be16de",
   "metadata": {
    "execution": {
     "iopub.execute_input": "2025-01-28T17:04:31.306393Z",
     "iopub.status.busy": "2025-01-28T17:04:31.305748Z",
     "iopub.status.idle": "2025-01-28T17:04:31.471635Z",
     "shell.execute_reply": "2025-01-28T17:04:31.470350Z"
    },
    "papermill": {
     "duration": 0.176756,
     "end_time": "2025-01-28T17:04:31.474602",
     "exception": false,
     "start_time": "2025-01-28T17:04:31.297846",
     "status": "completed"
    },
    "tags": []
   },
   "outputs": [],
   "source": [
    "from sklearn.model_selection import train_test_split\n",
    "\n",
    "X_train, X_test, y_train, y_test = train_test_split(X, y, test_size=0.2, random_state=42)\n"
   ]
  },
  {
   "cell_type": "code",
   "execution_count": 12,
   "id": "83e2af60",
   "metadata": {
    "execution": {
     "iopub.execute_input": "2025-01-28T17:04:31.489780Z",
     "iopub.status.busy": "2025-01-28T17:04:31.489245Z",
     "iopub.status.idle": "2025-01-28T17:04:35.456011Z",
     "shell.execute_reply": "2025-01-28T17:04:35.455066Z"
    },
    "papermill": {
     "duration": 3.976385,
     "end_time": "2025-01-28T17:04:35.457904",
     "exception": false,
     "start_time": "2025-01-28T17:04:31.481519",
     "status": "completed"
    },
    "tags": []
   },
   "outputs": [],
   "source": [
    "import torch\n",
    "import torch.nn as nn\n",
    "import torch.optim as optim"
   ]
  },
  {
   "cell_type": "code",
   "execution_count": 13,
   "id": "c065a3d5",
   "metadata": {
    "execution": {
     "iopub.execute_input": "2025-01-28T17:04:35.469805Z",
     "iopub.status.busy": "2025-01-28T17:04:35.469228Z",
     "iopub.status.idle": "2025-01-28T17:04:35.521270Z",
     "shell.execute_reply": "2025-01-28T17:04:35.520324Z"
    },
    "papermill": {
     "duration": 0.060005,
     "end_time": "2025-01-28T17:04:35.523254",
     "exception": false,
     "start_time": "2025-01-28T17:04:35.463249",
     "status": "completed"
    },
    "tags": []
   },
   "outputs": [],
   "source": [
    "X_train_tensor = torch.tensor(X_train, dtype=torch.float32)\n",
    "y_train_tensor = torch.tensor(y_train, dtype=torch.float32).unsqueeze(1)\n",
    "X_test_tensor = torch.tensor(X_test, dtype=torch.float32)\n",
    "y_test_tensor = torch.tensor(y_test, dtype=torch.float32).unsqueeze(1)"
   ]
  },
  {
   "cell_type": "code",
   "execution_count": 14,
   "id": "bd469247",
   "metadata": {
    "execution": {
     "iopub.execute_input": "2025-01-28T17:04:35.535596Z",
     "iopub.status.busy": "2025-01-28T17:04:35.535257Z",
     "iopub.status.idle": "2025-01-28T17:04:35.541735Z",
     "shell.execute_reply": "2025-01-28T17:04:35.540396Z"
    },
    "papermill": {
     "duration": 0.015343,
     "end_time": "2025-01-28T17:04:35.543950",
     "exception": false,
     "start_time": "2025-01-28T17:04:35.528607",
     "status": "completed"
    },
    "tags": []
   },
   "outputs": [],
   "source": [
    "class SalesPredictor(nn.Module):\n",
    "    def __init__(self, input_dim):\n",
    "        super(SalesPredictor, self).__init__()\n",
    "        self.fc1 = nn.Linear(input_dim, 128)\n",
    "        self.relu = nn.ReLU()\n",
    "        self.fc2 = nn.Linear(128, 64)\n",
    "        self.fc3 = nn.Linear(64, 1)\n",
    "    \n",
    "    def forward(self, x):\n",
    "        x = self.fc1(x)\n",
    "        x = self.relu(x)\n",
    "        x = self.fc2(x)\n",
    "        x = self.relu(x)\n",
    "        x = self.fc3(x)\n",
    "        return x\n"
   ]
  },
  {
   "cell_type": "code",
   "execution_count": 15,
   "id": "c7d63ce6",
   "metadata": {
    "execution": {
     "iopub.execute_input": "2025-01-28T17:04:35.555286Z",
     "iopub.status.busy": "2025-01-28T17:04:35.554877Z",
     "iopub.status.idle": "2025-01-28T17:11:23.063564Z",
     "shell.execute_reply": "2025-01-28T17:11:23.062160Z"
    },
    "papermill": {
     "duration": 407.516633,
     "end_time": "2025-01-28T17:11:23.065507",
     "exception": false,
     "start_time": "2025-01-28T17:04:35.548874",
     "status": "completed"
    },
    "tags": []
   },
   "outputs": [
    {
     "name": "stdout",
     "output_type": "stream",
     "text": [
      "Epoch 10/1000, Loss: 1022324.1875\n",
      "Epoch 20/1000, Loss: 1020703.3125\n",
      "Epoch 30/1000, Loss: 1018327.2500\n",
      "Epoch 40/1000, Loss: 1014961.7500\n",
      "Epoch 50/1000, Loss: 1010307.0625\n",
      "Epoch 60/1000, Loss: 1004015.1875\n",
      "Epoch 70/1000, Loss: 995738.6250\n",
      "Epoch 80/1000, Loss: 985131.2500\n",
      "Epoch 90/1000, Loss: 971864.0000\n",
      "Epoch 100/1000, Loss: 955642.9375\n",
      "Epoch 110/1000, Loss: 936205.6250\n",
      "Epoch 120/1000, Loss: 913332.0625\n",
      "Epoch 130/1000, Loss: 886960.8125\n",
      "Epoch 140/1000, Loss: 857182.5625\n",
      "Epoch 150/1000, Loss: 824255.8750\n",
      "Epoch 160/1000, Loss: 788621.6875\n",
      "Epoch 170/1000, Loss: 750909.1250\n",
      "Epoch 180/1000, Loss: 711929.5625\n",
      "Epoch 190/1000, Loss: 672652.8125\n",
      "Epoch 200/1000, Loss: 634158.8750\n",
      "Epoch 210/1000, Loss: 597566.8125\n",
      "Epoch 220/1000, Loss: 563934.0000\n",
      "Epoch 230/1000, Loss: 534141.9375\n",
      "Epoch 240/1000, Loss: 508788.8438\n",
      "Epoch 250/1000, Loss: 488115.3750\n",
      "Epoch 260/1000, Loss: 471991.0625\n",
      "Epoch 270/1000, Loss: 459958.3438\n",
      "Epoch 280/1000, Loss: 451330.5938\n",
      "Epoch 290/1000, Loss: 445320.9375\n",
      "Epoch 300/1000, Loss: 441173.2812\n",
      "Epoch 310/1000, Loss: 438255.4375\n",
      "Epoch 320/1000, Loss: 436100.5625\n",
      "Epoch 330/1000, Loss: 434397.5938\n",
      "Epoch 340/1000, Loss: 432947.0938\n",
      "Epoch 350/1000, Loss: 431644.7812\n",
      "Epoch 360/1000, Loss: 430433.1250\n",
      "Epoch 370/1000, Loss: 429274.0625\n",
      "Epoch 380/1000, Loss: 428143.9062\n",
      "Epoch 390/1000, Loss: 427043.0938\n",
      "Epoch 400/1000, Loss: 425967.7500\n",
      "Epoch 410/1000, Loss: 424914.6562\n",
      "Epoch 420/1000, Loss: 423881.6250\n",
      "Epoch 430/1000, Loss: 422866.3438\n",
      "Epoch 440/1000, Loss: 421866.8125\n",
      "Epoch 450/1000, Loss: 420883.1875\n",
      "Epoch 460/1000, Loss: 419913.0625\n",
      "Epoch 470/1000, Loss: 418957.0625\n",
      "Epoch 480/1000, Loss: 418013.9375\n",
      "Epoch 490/1000, Loss: 417083.0938\n",
      "Epoch 500/1000, Loss: 416164.8125\n",
      "Epoch 510/1000, Loss: 415259.2188\n",
      "Epoch 520/1000, Loss: 414366.2500\n",
      "Epoch 530/1000, Loss: 413484.5000\n",
      "Epoch 540/1000, Loss: 412612.1562\n",
      "Epoch 550/1000, Loss: 411750.6562\n",
      "Epoch 560/1000, Loss: 410899.2188\n",
      "Epoch 570/1000, Loss: 410058.3438\n",
      "Epoch 580/1000, Loss: 409228.5312\n",
      "Epoch 590/1000, Loss: 408409.8125\n",
      "Epoch 600/1000, Loss: 407602.2812\n",
      "Epoch 610/1000, Loss: 406806.3750\n",
      "Epoch 620/1000, Loss: 406021.8438\n",
      "Epoch 630/1000, Loss: 405248.7188\n",
      "Epoch 640/1000, Loss: 404486.4375\n",
      "Epoch 650/1000, Loss: 403734.6250\n",
      "Epoch 660/1000, Loss: 402992.2188\n",
      "Epoch 670/1000, Loss: 402258.6875\n",
      "Epoch 680/1000, Loss: 401533.7500\n",
      "Epoch 690/1000, Loss: 400816.0312\n",
      "Epoch 700/1000, Loss: 400104.5938\n",
      "Epoch 710/1000, Loss: 399398.0000\n",
      "Epoch 720/1000, Loss: 398694.9062\n",
      "Epoch 730/1000, Loss: 397993.6875\n",
      "Epoch 740/1000, Loss: 397292.4062\n",
      "Epoch 750/1000, Loss: 396589.5625\n",
      "Epoch 760/1000, Loss: 395883.4688\n",
      "Epoch 770/1000, Loss: 395172.4688\n",
      "Epoch 780/1000, Loss: 394455.2188\n",
      "Epoch 790/1000, Loss: 393729.6562\n",
      "Epoch 800/1000, Loss: 392994.1250\n",
      "Epoch 810/1000, Loss: 392247.0312\n",
      "Epoch 820/1000, Loss: 391486.3438\n",
      "Epoch 830/1000, Loss: 390710.2188\n",
      "Epoch 840/1000, Loss: 389916.8438\n",
      "Epoch 850/1000, Loss: 389104.3438\n",
      "Epoch 860/1000, Loss: 388271.0000\n",
      "Epoch 870/1000, Loss: 387415.3438\n",
      "Epoch 880/1000, Loss: 386536.5312\n",
      "Epoch 890/1000, Loss: 385634.1250\n",
      "Epoch 900/1000, Loss: 384708.3438\n",
      "Epoch 910/1000, Loss: 383759.0625\n",
      "Epoch 920/1000, Loss: 382786.8750\n",
      "Epoch 930/1000, Loss: 381791.5000\n",
      "Epoch 940/1000, Loss: 380772.7188\n",
      "Epoch 950/1000, Loss: 379730.8750\n",
      "Epoch 960/1000, Loss: 378665.7188\n",
      "Epoch 970/1000, Loss: 377576.8750\n",
      "Epoch 980/1000, Loss: 376464.2812\n",
      "Epoch 990/1000, Loss: 375328.3125\n",
      "Epoch 1000/1000, Loss: 374170.1250\n"
     ]
    }
   ],
   "source": [
    "input_dim = X_train.shape[1]\n",
    "model = SalesPredictor(input_dim)\n",
    "criterion = nn.MSELoss()\n",
    "optimizer = optim.Adam(model.parameters(), lr=0.001)\n",
    "\n",
    "# Training loop\n",
    "epochs = 1000\n",
    "for epoch in range(epochs):\n",
    "    model.train()\n",
    "    optimizer.zero_grad()\n",
    "    predictions = model(X_train_tensor)\n",
    "    loss = criterion(predictions, y_train_tensor)\n",
    "    loss.backward()\n",
    "    optimizer.step()\n",
    "\n",
    "    if (epoch+1) % 10 == 0:\n",
    "        print(f'Epoch {epoch+1}/{epochs}, Loss: {loss.item():.4f}')"
   ]
  },
  {
   "cell_type": "code",
   "execution_count": 16,
   "id": "e41592c8",
   "metadata": {
    "execution": {
     "iopub.execute_input": "2025-01-28T17:11:23.087397Z",
     "iopub.status.busy": "2025-01-28T17:11:23.086755Z",
     "iopub.status.idle": "2025-01-28T17:11:23.136298Z",
     "shell.execute_reply": "2025-01-28T17:11:23.135209Z"
    },
    "papermill": {
     "duration": 0.062519,
     "end_time": "2025-01-28T17:11:23.138206",
     "exception": false,
     "start_time": "2025-01-28T17:11:23.075687",
     "status": "completed"
    },
    "tags": []
   },
   "outputs": [
    {
     "name": "stdout",
     "output_type": "stream",
     "text": [
      "Test Loss: 374349.4062\n"
     ]
    }
   ],
   "source": [
    "model.eval()\n",
    "with torch.no_grad():\n",
    "    test_predictions = model(X_test_tensor)\n",
    "    test_loss = criterion(test_predictions, y_test_tensor)\n",
    "    print(f'Test Loss: {test_loss.item():.4f}')\n"
   ]
  },
  {
   "cell_type": "code",
   "execution_count": null,
   "id": "acc3c1ed",
   "metadata": {
    "papermill": {
     "duration": 0.00946,
     "end_time": "2025-01-28T17:11:23.157630",
     "exception": false,
     "start_time": "2025-01-28T17:11:23.148170",
     "status": "completed"
    },
    "tags": []
   },
   "outputs": [],
   "source": []
  }
 ],
 "metadata": {
  "kaggle": {
   "accelerator": "none",
   "dataSources": [
    {
     "databundleVersionId": 10652996,
     "sourceId": 85723,
     "sourceType": "competition"
    }
   ],
   "dockerImageVersionId": 30822,
   "isGpuEnabled": false,
   "isInternetEnabled": true,
   "language": "python",
   "sourceType": "notebook"
  },
  "kernelspec": {
   "display_name": "Python 3",
   "language": "python",
   "name": "python3"
  },
  "language_info": {
   "codemirror_mode": {
    "name": "ipython",
    "version": 3
   },
   "file_extension": ".py",
   "mimetype": "text/x-python",
   "name": "python",
   "nbconvert_exporter": "python",
   "pygments_lexer": "ipython3",
   "version": "3.10.12"
  },
  "papermill": {
   "default_parameters": {},
   "duration": 420.070033,
   "end_time": "2025-01-28T17:11:24.893883",
   "environment_variables": {},
   "exception": null,
   "input_path": "__notebook__.ipynb",
   "output_path": "__notebook__.ipynb",
   "parameters": {},
   "start_time": "2025-01-28T17:04:24.823850",
   "version": "2.6.0"
  }
 },
 "nbformat": 4,
 "nbformat_minor": 5
}
